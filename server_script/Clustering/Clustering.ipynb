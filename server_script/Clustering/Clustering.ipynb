{
 "cells": [
  {
   "cell_type": "code",
   "execution_count": 1,
   "metadata": {},
   "outputs": [],
   "source": [
    "import numpy as np\n",
    "import matplotlib.pyplot as plt\n",
    "import pandas as pd\n",
    "import helper\n",
    "from heapq import nlargest\n",
    "from sklearn.cluster import KMeans\n",
    "from scipy.sparse import csr_matrix\n",
    "%matplotlib inline"
   ]
  },
  {
   "dummy": {},
   "cell_type": "code",
   "execution_count": 2,
   "metadata": {},
   "outputs": [],
   "source": [
    "#import User data and location data\n",
    "userIDSet=[\"0131412\",\"0131412\",\"2142144\",\"0131412\",\"0131412\",\"0131412\",\"1243551\",\"3524541\",\"2142144\",\"1232144\",\n",
    "           \"1232144\",\"1232144\",\"3524541\",\"1243551\",\"1243551\",\"1243551\",\"1232144\",\"3524541\",\"3524541\",\"1232144\",\n",
    "           \"3524541\",\"2142144\",\"2142144\",\"0131412\",\"2142144\",\"2142144\",\"2142144\",\"2142144\",\"0131412\",\"2142144\"]\n",
    "latSet=[22.369453,22.364373,22.356991,22.372627,22.344501,22.351804,22.381649,22.366568,22.353709,22.379903,\n",
    "        22.309567,22.313696,22.326400,22.323700,22.333545,22.313696,22.331163,22.347200,22.339261,22.327988,\n",
    "        22.257332,22.250818,22.254949,22.277348,22.260192,22.288308,22.276395,22.306256,22.227302,22.238107,]\n",
    "lngSet=[114.120113,114.122516,114.119254,114.108440,114.130891,114.096902,114.099477,114.150975,114.150117,114.109776,\n",
    "        114.175008,114.165223,114.161618,114.188054,114.171574,114.179127,114.202645,114.182732,114.163678,114.195779,\n",
    "        113.880496,113.922210,113.960834,113.915000,113.894572,113.981090,114.011646,113.918605,113.997741,113.926330]\n",
    "\n",
    "latlngData = np.column_stack([np.array(latSet), np.array(lngSet)])"
   ]
  },
  {
   "cell_type": "code",
   "execution_count": 3,
   "metadata": {},
   "outputs": [
    {
     "data": {
      "image/png": "[encoded data removed]",
      "text/plain": [
       "<Figure size 432x288 with 1 Axes>"
      ]
     },
     "metadata": {
      "needs_background": "light"
     },
     "output_type": "display_data"
    }
   ],
   "source": [
    "#visualize the data\n",
    "fig, ax = plt.subplots()\n",
    "ax.plot(latlngData[:, 0], latlngData[:, 1], 'o', markersize=2, c='darkblue');"
   ]
  },
  {
   "cell_type": "code",
   "execution_count": 4,
   "metadata": {},
   "outputs": [],
   "source": [
    "#try different numbers of cluster\n",
    "test_n_cluster = 20\n",
    "within_cluster_sum_squares = np.zeros(test_n_cluster)\n",
    "for i in range(test_n_cluster):\n",
    "    n = i+1\n",
    "    kmeans = KMeans(n_clusters = n, init = 'k-means++', max_iter=500, n_init=20, random_state = 0)\n",
    "    kmeans.fit(latlngData)\n",
    "    within_cluster_sum_squares[i] = kmeans.inertia_\n"
   ]
  },
  {
   "cell_type": "code",
   "execution_count": 5,
   "metadata": {},
   "outputs": [
    {
     "data": {
      "text/plain": [
       "array([0.39, 0.05, 0.03, 0.02, 0.01, 0.01, 0.01, 0.01, 0.01, 0.  , 0.  ,\n",
       "       0.  , 0.  , 0.  , 0.  , 0.  , 0.  , 0.  , 0.  , 0.  ])"
      ]
     },
     "execution_count": 5,
     "metadata": {},
     "output_type": "execute_result"
    }
   ],
   "source": [
    "#show the trend of changing number of cluster\n",
    "np.set_printoptions(suppress=True)\n",
    "np.around(within_cluster_sum_squares, 2)\n"
   ]
  },
  {
   "cell_type": "code",
   "execution_count": 6,
   "metadata": {},
   "outputs": [
    {
     "data": {
      "image/png": "[encoded data removed]",
      "text/plain": [
       "<Figure size 432x288 with 1 Axes>"
      ]
     },
     "metadata": {
      "needs_background": "light"
     },
     "output_type": "display_data"
    }
   ],
   "source": [
    "#visualize the trend\n",
    "fig, ax = plt.subplots()\n",
    "ax.plot(within_cluster_sum_squares)\n",
    "xticks = np.arange(test_n_cluster)\n",
    "xticklabels = xticks + 1\n",
    "ax.set(xticks=xticks, xticklabels=xticklabels, title='The Elbow Method', \n",
    "       xlabel='Number of clusters, Picture 0', ylabel='WCSS');"
   ]
  },
  {
   "cell_type": "code",
   "execution_count": 7,
   "metadata": {},
   "outputs": [
    {
     "name": "stdout",
     "output_type": "stream",
     "text": [
      "Remark: If repeated applications(with different random_state parameters) yield different \n",
      "        values for the optimal number then K-means method does not work well on the array.\n"
     ]
    }
   ],
   "source": [
    "#get the proper number of cluster\n",
    "def ElbowMethod(array, top_cluster_number, remark=True, init = 'k-means++', max_iter = 300, n_init = 10, random_state = None):\n",
    "    #import numpy as np\n",
    "    #from sklearn.cluster import KMeans\n",
    "    wcss = np.zeros(top_cluster_number)\n",
    "    \n",
    "    for i in range(top_cluster_number):\n",
    "        n = i+1\n",
    "        kmeans = KMeans(n_clusters = n, init=init, max_iter=max_iter, n_init=n_init, random_state=random_state)\n",
    "        kmeans.fit(latlngData)\n",
    "        wcss[i] = kmeans.inertia_\n",
    "    \n",
    "    cosines = -1 * np.ones(top_cluster_number)\n",
    "    \n",
    "    for i in range(top_cluster_number-1):\n",
    "    # check if the point is below a segment midpoint connecting its neighbors\n",
    "        if (wcss[i] < (wcss[i+1]+wcss[i-1])/2 ):\n",
    "            cosines[i]= (-1+(wcss[i-1]-wcss[i])*(wcss[i+1]-wcss[i]))/ \\\n",
    "            ((1+(wcss[i-1]-wcss[i])**2)*(1+ (wcss[i+1]-wcss[i])**2))**.5\n",
    "    \n",
    "    if remark:\n",
    "        print(\"\"\"Remark: If repeated applications(with different random_state parameters) yield different \n",
    "        values for the optimal number then K-means method does not work well on the array.\"\"\")\n",
    "    \n",
    "        return (np.flip(np.argsort(cosines))+1)\n",
    "\n",
    "suggestedNumOfCluster=ElbowMethod(latlngData, 20, max_iter=500, n_init=20)\n",
    "#print(suggestedNumOfCluster)"
   ]
  },
  {
   "cell_type": "code",
   "execution_count": null,
   "metadata": {},
   "outputs": [],
   "source": []
  },
  {
   "cell_type": "code",
   "execution_count": 8,
   "metadata": {},
   "outputs": [],
   "source": [
    "#convert userIDSet to numIdx\n",
    "userIDBook=[]\n",
    "userIDIdxSet=[]\n",
    "for i in range(len(userIDSet)):\n",
    "    if userIDSet[i] not in userIDBook:\n",
    "        userIDBook.append(userIDSet[i])\n",
    "    userIDIdxSet.append(userIDBook.index(userIDSet[i]))\n",
    "#print(\"userIDBook:\")\n",
    "#print(userIDBook)\n",
    "#print(\"userIDSet:\")\n",
    "#print(userIDSet)\n",
    "#print(\"userIDIdxSet:\")\n",
    "#print(userIDIdxSet)\n",
    "\n",
    "\n",
    "#form the dataset for clustering\n",
    "numOfUser=len(userIDBook)\n",
    "userIDIdx = pd.Series(userIDIdxSet)\n",
    "lat = pd.Series(latSet)\n",
    "lng = pd.Series(lngSet)\n",
    "d = {'UserID_index':userIDIdx, 'Lat': lat, 'Lng': lng}\n",
    "dataset = pd.DataFrame(d)\n",
    "#print(dataset)"
   ]
  },
  {
   "cell_type": "code",
   "execution_count": 9,
   "metadata": {},
   "outputs": [
    {
     "data": {
      "image/png": "[encoded data removed]",
      "text/plain": [
       "<Figure size 576x576 with 1 Axes>"
      ]
     },
     "metadata": {
      "needs_background": "light"
     },
     "output_type": "display_data"
    }
   ],
   "source": [
    "#clustering using helper.py\n",
    "minLat=lat.min()\n",
    "maxLat=lat.max()\n",
    "minLng=lng.min()\n",
    "maxLng=lng.max()\n",
    "#print(minLat)\n",
    "#print(maxLat)\n",
    "#print(minLng)\n",
    "#print(maxLng)\n",
    "latRange=maxLat-minLat\n",
    "lngRange=maxLng-minLng\n",
    "lowerLat=minLat-latRange/2\n",
    "upperLat=maxLat+latRange/2\n",
    "lowerLng=minLng-lngRange/2\n",
    "upperLng=maxLng+lngRange/2\n",
    "helper.draw_scatterplot(dataset['Lat'],'Lat', dataset['Lng'], 'Lng', lowerLat, upperLat, lowerLng, upperLng)"
   ]
  },
  {
   "cell_type": "code",
   "execution_count": null,
   "metadata": {},
   "outputs": [],
   "source": []
  },
  {
   "cell_type": "code",
   "execution_count": 10,
   "metadata": {},
   "outputs": [
    {
     "name": "stdout",
     "output_type": "stream",
     "text": [
      "X(type:<class 'numpy.ndarray'>)\n",
      "[[ 22.369453 114.120113]\n",
      " [ 22.364373 114.122516]\n",
      " [ 22.356991 114.119254]\n",
      " [ 22.372627 114.10844 ]\n",
      " [ 22.344501 114.130891]\n",
      " [ 22.351804 114.096902]\n",
      " [ 22.381649 114.099477]\n",
      " [ 22.366568 114.150975]\n",
      " [ 22.353709 114.150117]\n",
      " [ 22.379903 114.109776]\n",
      " [ 22.309567 114.175008]\n",
      " [ 22.313696 114.165223]\n",
      " [ 22.3264   114.161618]\n",
      " [ 22.3237   114.188054]\n",
      " [ 22.333545 114.171574]\n",
      " [ 22.313696 114.179127]\n",
      " [ 22.331163 114.202645]\n",
      " [ 22.3472   114.182732]\n",
      " [ 22.339261 114.163678]\n",
      " [ 22.327988 114.195779]\n",
      " [ 22.257332 113.880496]\n",
      " [ 22.250818 113.92221 ]\n",
      " [ 22.254949 113.960834]\n",
      " [ 22.277348 113.915   ]\n",
      " [ 22.260192 113.894572]\n",
      " [ 22.288308 113.98109 ]\n",
      " [ 22.276395 114.011646]\n",
      " [ 22.306256 113.918605]\n",
      " [ 22.227302 113.997741]\n",
      " [ 22.238107 113.92633 ]]\n",
      "predictions(type:<class 'numpy.ndarray'>)\n",
      "[3 3 3 3 3 3 3 3 3 3 0 0 0 0 0 0 0 0 0 0 1 1 2 1 1 2 2 1 2 1]\n"
     ]
    }
   ],
   "source": [
    "#convert proper data type for clustering\n",
    "X = dataset[['Lat','Lng']].values\n",
    "#print(\"dataset(type:\"+str(type(X))+\")\")\n",
    "#print(X)\n",
    "\n",
    "#Create an instance of KMeans\n",
    "numOfClusters=suggestedNumOfCluster[1]\n",
    "kmeans_1 = KMeans(n_clusters=numOfClusters, random_state=0)\n",
    "#Use fit_predict to cluster the dataset\n",
    "predictions = kmeans_1.fit_predict(X)\n",
    "\n",
    "#check data value\n",
    "print(\"X(type:\"+str(type(X))+\")\")\n",
    "print(X)\n",
    "print(\"predictions(type:\"+str(type(predictions))+\")\")\n",
    "print(predictions)"
   ]
  },
  {
   "cell_type": "code",
   "execution_count": 11,
   "metadata": {},
   "outputs": [
    {
     "data": {
      "image/png": "[encoded data removed]",
      "text/plain": [
       "<Figure size 576x576 with 1 Axes>"
      ]
     },
     "metadata": {
      "needs_background": "light"
     },
     "output_type": "display_data"
    }
   ],
   "source": [
    "#visualize the result of clustering\n",
    "helper.draw_clusters(dataset, predictions, 'Lat', 'Lng', lowerLat, upperLat, lowerLng, upperLng)"
   ]
  },
  {
   "cell_type": "code",
   "execution_count": 12,
   "metadata": {},
   "outputs": [
    {
     "name": "stdout",
     "output_type": "stream",
     "text": [
      "[[4, 4, 3, 2, 2, 2, 4, 3, 3, 4], [3, 1, 0, 1, 1, 1], [1, 1, 1, 0], [0, 0, 1, 0, 0, 0, 2, 3, 1, 4]]\n"
     ]
    }
   ],
   "source": [
    "#count # of users appear in each cluster\n",
    "clusters=[]\n",
    "userIDArray = userIDIdx.to_numpy()\n",
    "for i in range(numOfClusters):\n",
    "    clusters.append([])\n",
    "for i in range(len(predictions)):\n",
    "    clusters[predictions[i]].append(userIDArray[i])\n",
    "print(clusters)"
   ]
  },
  {
   "cell_type": "code",
   "execution_count": 13,
   "metadata": {},
   "outputs": [],
   "source": [
    "#get user avg occurence for calculation\n",
    "userAvgOccurrence=[]\n",
    "for i in range(numOfUser):\n",
    "    currentUserOccurence=0\n",
    "    for j in range(numOfClusters):\n",
    "        currentUserOccurence+=clusters[j].count(i+1)\n",
    "    userAvgOccurrence.append(currentUserOccurence/numOfClusters)\n",
    "#print(\"userAvgOccurrence:\")\n",
    "#print(userAvgOccurrence)\n",
    "\n",
    "\n",
    "#functions\n",
    "def covOfUserAB(A,B):\n",
    "    sONOOUAB=0 #sONOOUAB: sum of normalized occurrence of user A,B\n",
    "    for i in range(numOfClusters):\n",
    "        sONOOUAB+=(clusters[i].count(A)-userAvgOccurrence[A-1])*(clusters[i].count(B)-userAvgOccurrence[B-1])\n",
    "    sONOOUAB=sONOOUAB/numOfClusters\n",
    "    #print(\"soNOOUAB:\")\n",
    "    #print(sONOOUAB)\n",
    "    return sONOOUAB\n",
    "\n",
    "def stdDevOfUser(A):\n",
    "    numerator=0\n",
    "    for i in range(numOfClusters):\n",
    "        numerator+=(clusters[i].count(A)-userAvgOccurrence[A-1])**2\n",
    "    result=pow(numerator/numOfClusters,0.5)\n",
    "    #print(\"result:\")\n",
    "    #print(result)\n",
    "    return result\n",
    "\n",
    "def simOfUserAB(A,B):\n",
    "    numerator=covOfUserAB(A,B)\n",
    "    denominator=(stdDevOfUser(A)*stdDevOfUser(B))\n",
    "    if(denominator==0): #means all data of A and B are the same\n",
    "        result=-1.0\n",
    "    else:\n",
    "        result=numerator/denominator\n",
    "    #print(\"numerator:\")\n",
    "    #print(numerator)\n",
    "    #print(\"denominator:\")\n",
    "    #print(denominator)\n",
    "    #print(\"numerator/denominator:\")\n",
    "    #print(result)\n",
    "    #print(\"------------------------\")\n",
    "    return result #result 1:similar, 0:no linear relationship, -1:opposite\n",
    "\n",
    "#to find the distance matrix of all user\n",
    "def getUserDistanceMatrix():\n",
    "    userDistanceMatrix=[]\n",
    "    for i in range(numOfUser):\n",
    "        userDistanceMatrix.append([])\n",
    "        for j in range(numOfUser):\n",
    "            if(i>j):\n",
    "                userDistanceMatrix[i].append(userDistanceMatrix[j][i])\n",
    "            if(i==j):\n",
    "                userDistanceMatrix[i].append(-1.0)\n",
    "            if(i<j):\n",
    "                userDistanceMatrix[i].append(simOfUserAB(i,j))\n",
    "    print(\"userDistanceMatrix:\")\n",
    "    print(userDistanceMatrix)\n",
    "    return userDistanceMatrix\n",
    "\n",
    "#get Nth similar Users\n",
    "def getNthUserMostSimilarTotarget(userID,Nth):\n",
    "    if userID in userIDBook:\n",
    "        targetUserIdx=userIDBook.index(userID)\n",
    "        print(\"targetUserIdx:\")\n",
    "        print(targetUserIdx)\n",
    "        #idxOfUserID=allUserID.copy()\n",
    "        similaritiesOfUserA=getUserDistanceMatrix()[targetUserIdx].copy() #result 1:similar, 0:no linear relationship, -1:opposite\n",
    "        idxForSimilaritiesOfUserA=[]\n",
    "        for i in range(len(similaritiesOfUserA)):\n",
    "            idxForSimilaritiesOfUserA.append(i)\n",
    "        #print(\"idxOfUserID:\")\n",
    "        #print(idxOfUserID)\n",
    "        print(\"similaritiesOfUserA:\")\n",
    "        print(similaritiesOfUserA)\n",
    "        print(\"idxForSimilaritiesOfUserA:\")\n",
    "        print(idxForSimilaritiesOfUserA)\n",
    "        result=nlargest(Nth, idxForSimilaritiesOfUserA, key=lambda i: similaritiesOfUserA[i])\n",
    "        print(\"result:\")\n",
    "        print(result)\n",
    "\n",
    "        #filter out -1 to 0 results\n",
    "        #result 1:similar, 0:no linear relationship, -1:opposite\n",
    "        result = [item for item in result if similaritiesOfUserA[item]>0.0]\n",
    "        print(\"filtered result:\")\n",
    "        print(result)\n",
    "\n",
    "        #get back the user ID of the result\n",
    "        NthUser=[]\n",
    "        for i in range(len(result)):\n",
    "            #NthUser.append(idxOfUserID[result[i]])\n",
    "            NthUser.append(userIDBook[result[i]])\n",
    "        print(\"result(in user ID):\")\n",
    "        print(NthUser)\n",
    "\n",
    "        return NthUser\n",
    "    else:\n",
    "        return []"
   ]
  },
  {
   "cell_type": "code",
   "execution_count": 14,
   "metadata": {},
   "outputs": [
    {
     "name": "stdout",
     "output_type": "stream",
     "text": [
      "targetUserIdx:\n",
      "3\n",
      "userDistanceMatrix:\n",
      "[[-1.0, 0.08132500607904443, -0.15713484026367722, -0.24283093212859133, -0.22011272658140596], [0.08132500607904443, -1.0, -0.9660917830792959, -0.8143450710459552, -0.953747635118964], [-0.15713484026367722, -0.9660917830792959, -1.0, 0.936585811581694, 0.9961164901835046], [-0.24283093212859133, -0.8143450710459552, 0.936585811581694, -1.0, 0.9446104285307813], [-0.22011272658140596, -0.953747635118964, 0.9961164901835046, 0.9446104285307813, -1.0]]\n",
      "similaritiesOfUserA:\n",
      "[-0.24283093212859133, -0.8143450710459552, 0.936585811581694, -1.0, 0.9446104285307813]\n",
      "idxForSimilaritiesOfUserA:\n",
      "[0, 1, 2, 3, 4]\n",
      "result:\n",
      "[4, 2]\n",
      "filtered result:\n",
      "[4, 2]\n",
      "result(in user ID):\n",
      "['1232144', '1243551']\n"
     ]
    },
    {
     "data": {
      "text/plain": [
       "['1232144', '1243551']"
      ]
     },
     "execution_count": 14,
     "metadata": {},
     "output_type": "execute_result"
    }
   ],
   "source": [
    "#to get n similar Users\n",
    "getNthUserMostSimilarTotarget(\"3524541\",2)"
   ]
  },
  {
   "cell_type": "code",
   "execution_count": 15,
   "metadata": {},
   "outputs": [],
   "source": [
    "#Backup testing data\n",
    "#cluster 1:\n",
    "#22.369453, 114.120113\n",
    "#22.364373, 114.122516\n",
    "#22.356991, 114.119254\n",
    "#22.372627, 114.108440\n",
    "#22.344501, 114.130891\n",
    "#22.351804, 114.096902\n",
    "#22.381649, 114.099477\n",
    "#22.366568, 114.150975\n",
    "#22.353709, 114.150117\n",
    "#22.379903, 114.109776\n",
    "\n",
    "\n",
    "#cluster 2:\n",
    "#22.309567, 114.175008\n",
    "#22.313696, 114.165223\n",
    "#22.326400, 114.161618\n",
    "#22.323700, 114.188054\n",
    "#22.333545, 114.171574\n",
    "#22.313696, 114.179127\n",
    "#22.331163, 114.202645\n",
    "#22.347200, 114.182732\n",
    "#22.339261, 114.163678\n",
    "#22.327988, 114.195779\n",
    "\n",
    "\n",
    "#cluster 3:\n",
    "#22.257332, 113.880496\n",
    "#22.250818, 113.922210\n",
    "#22.254949，113.960834\n",
    "#22.277348, 113.915000\n",
    "#22.260192, 113.894572\n",
    "#22.288308, 113.981090\n",
    "#22.276395, 114.011646\n",
    "#22.306256, 113.918605\n",
    "#22.227302, 113.997741\n",
    "#22.238107，113.926330\n",
    "\n",
    "#userID\n",
    "#0: 0131412\n",
    "#1: 2142144\n",
    "#2: 1243551\n",
    "#3: 3524541\n",
    "#4: 1232144\n",
    "#[\"0131412\",\"0131412\",\"2142144\",\"0131412\",\"0131412\",\"0131412\",\"1243551\",\"3524541\",\"2142144\",\"1232144\",\n",
    "# \"1232144\",\"1232144\",\"3524541\",\"1243551\",\"1243551\",\"1243551\",\"1232144\",\"3524541\",\"3524541\",\"1232144\",\n",
    "# \"3524541\",\"2142144\",\"2142144\",\"0131412\",\"2142144\",\"2142144\",\"2142144\",\"2142144\",\"0131412\",\"2142144\"]\n"
   ]
  },
  {
   "cell_type": "code",
   "execution_count": null,
   "metadata": {},
   "outputs": [],
   "source": []
  },
  {
   "cell_type": "code",
   "execution_count": 16,
   "metadata": {},
   "outputs": [],
   "source": [
    "#Backup code"
   ]
  },
  {
   "cell_type": "code",
   "execution_count": 17,
   "metadata": {},
   "outputs": [
    {
     "name": "stdout",
     "output_type": "stream",
     "text": [
      "[-0.213048    0.07256833 -0.1977792   0.0822872  -0.0425363   0.03908652\n",
      " -0.20986045 -0.04891002 -0.02205613 -0.03342823]\n",
      "[ 0.00693196 -0.11988116 -0.19713881  0.04850418  0.00728694  0.08769389\n",
      " -0.06031104 -0.01661506 -0.25821944  0.03584884]\n",
      "[1.09625176 0.95106359 1.19520416 1.251298   1.11726307 0.90967418\n",
      " 0.96069158 1.13113758 1.00760109 1.06461565]\n",
      "[1.11131559 1.09628071 0.9115343  1.14248507 1.0211726  1.16306936\n",
      " 0.92061287 0.76429802 0.99393536 1.07793446]\n",
      "[2.18102306 1.93412139 2.04795257 2.06871508 1.9754128  1.99897407\n",
      " 1.9190824  1.75454454 1.98035717 2.17061264]\n",
      "[1.94387289 1.89389455 2.09247375 2.06990986 2.00665737 2.03211569\n",
      " 1.93810507 1.91559325 1.89694947 1.88112747]\n"
     ]
    },
    {
     "data": {
      "image/png": "[encoded data removed]",
      "text/plain": [
       "<Figure size 432x288 with 1 Axes>"
      ]
     },
     "metadata": {
      "needs_background": "light"
     },
     "output_type": "display_data"
    }
   ],
   "source": [
    "#Reference Sample\n",
    "# number of clusters: real and assumed for testing.\n",
    "true_n_cluster = 3\n",
    "\n",
    "n_obs = 10\n",
    "\n",
    "X = None\n",
    "\n",
    "for i in range(true_n_cluster):\n",
    "    x = np.random.normal(loc=i, size=n_obs, scale=0.1)#generate data\n",
    "    y = np.random.normal(loc=i, size=n_obs, scale=0.1)#generate data\n",
    "    print(x)\n",
    "    print(y)\n",
    "    data = np.column_stack([x, y])\n",
    "    #print(data)\n",
    "    if X is None:\n",
    "        X = data\n",
    "    else:\n",
    "        X = np.row_stack([X, data])\n",
    "        \n",
    "#print(X)\n",
    "\n",
    "fig, ax = plt.subplots()\n",
    "\n",
    "ax.plot(X[:, 0], X[:, 1], 'o', markersize=2, c='darkblue');"
   ]
  },
  {
   "cell_type": "code",
   "execution_count": null,
   "metadata": {},
   "outputs": [],
   "source": []
  }
 ],
 "metadata": {
  "kernelspec": {
   "display_name": "Python 3",
   "language": "python",
   "name": "python3"
  },
  "language_info": {
   "codemirror_mode": {
    "name": "ipython",
    "version": 3
   },
   "file_extension": ".py",
   "mimetype": "text/x-python",
   "name": "python",
   "nbconvert_exporter": "python",
   "pygments_lexer": "ipython3",
   "version": "3.7.3"
  }
 },
 "nbformat": 4,
 "nbformat_minor": 2
}
