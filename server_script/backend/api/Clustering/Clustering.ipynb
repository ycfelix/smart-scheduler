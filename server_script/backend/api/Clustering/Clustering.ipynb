{
 "cells": [
  {
   "cell_type": "code",
   "execution_count": null,
   "metadata": {},
   "outputs": [],
   "source": []
  },
  {
   "cell_type": "code",
   "execution_count": null,
   "metadata": {},
   "outputs": [],
   "source": [
    "\n",
    "\n",
    "\n"
   ]
  },
  {
   "cell_type": "code",
   "execution_count": 1,
   "metadata": {},
   "outputs": [],
   "source": [
    "import numpy as np\n",
    "import matplotlib.pyplot as plt\n",
    "import pandas as pd\n",
    "import helper\n",
    "import requests\n",
    "from heapq import nlargest\n",
    "from sklearn.cluster import KMeans\n",
    "from scipy.sparse import csr_matrix\n",
    "%matplotlib inline"
   ]
  },
  {
   "cell_type": "code",
   "execution_count": 2,
   "metadata": {},
   "outputs": [],
   "source": [
    "#import User data and location data\n",
    "def importData():\n",
    "    #userIDSet=[\"0131412\",\"0131412\",\"2142144\",\"0131412\",\"0131412\",\"0131412\",\"1243551\",\"3524541\",\"2142144\",\"1232144\",\n",
    "    #           \"1232144\",\"1232144\",\"3524541\",\"1243551\",\"1243551\",\"1243551\",\"1232144\",\"3524541\",\"3524541\",\"1232144\",\n",
    "    #           \"3524541\",\"2142144\",\"2142144\",\"0131412\",\"2142144\",\"2142144\",\"2142144\",\"2142144\",\"0131412\",\"2142144\"]\n",
    "    #latSet=[22.369453,22.364373,22.356991,22.372627,22.344501,22.351804,22.381649,22.366568,22.353709,22.379903,\n",
    "    #        22.309567,22.313696,22.326400,22.323700,22.333545,22.313696,22.331163,22.347200,22.339261,22.327988,\n",
    "    #        22.257332,22.250818,22.254949,22.277348,22.260192,22.288308,22.276395,22.306256,22.227302,22.238107,]\n",
    "    #lngSet=[114.120113,114.122516,114.119254,114.108440,114.130891,114.096902,114.099477,114.150975,114.150117,114.109776,\n",
    "    #        114.175008,114.165223,114.161618,114.188054,114.171574,114.179127,114.202645,114.182732,114.163678,114.195779,\n",
    "    #        113.880496,113.922210,113.960834,113.915000,113.894572,113.981090,114.011646,113.918605,113.997741,113.926330]\n",
    "\n",
    "    url = 'http://13.70.2.33/api/sql_db'\n",
    "    myobj = {\"db_name\": \"Smart Scheduler\",\"sql_cmd\": \"SELECT * FROM user_location_history\"}\n",
    "    data = requests.post(url, data = myobj)\n",
    "    dataJson=data.json()\n",
    "    result=dataJson['result']\n",
    "    userIDSet=[]\n",
    "    latSet=[]\n",
    "    lngSet=[]\n",
    "    for i in range(len(result)):\n",
    "        currentRecord=result[i]\n",
    "        userIDSet.append(currentRecord['userId'])\n",
    "        latSet.append(currentRecord['lat'])\n",
    "        lngSet.append(currentRecord['lng'])\n",
    "    print(\"userIDSet:\")\n",
    "    print(userIDSet)\n",
    "    print(\"latSet:\")\n",
    "    print(latSet)\n",
    "    print(\"lngSet:\")\n",
    "    print(lngSet)\n",
    "    \n",
    "    latlngData = np.column_stack([np.array(latSet), np.array(lngSet)])\n",
    "    visualizeRawData(latlngData)\n",
    "    \n",
    "    return userIDSet,latSet,lngSet,latlngData\n",
    "\n",
    "#visualize the data\n",
    "def visualizeRawData(latlngData):\n",
    "    fig, ax = plt.subplots()\n",
    "    ax.plot(latlngData[:, 0], latlngData[:, 1], 'o', markersize=2, c='darkblue');"
   ]
  },
  {
   "cell_type": "code",
   "execution_count": 3,
   "metadata": {},
   "outputs": [],
   "source": [
    "#try different numbers of cluster\n",
    "def findBestnumbersOfcluster(latlngData):\n",
    "    test_n_cluster = 20\n",
    "    within_cluster_sum_squares = np.zeros(test_n_cluster)\n",
    "    for i in range(test_n_cluster):\n",
    "        n = i+1\n",
    "        kmeans = KMeans(n_clusters = n, init = 'k-means++', max_iter=500, n_init=20, random_state = 0)\n",
    "        kmeans.fit(latlngData)\n",
    "        within_cluster_sum_squares[i] = kmeans.inertia_\n",
    "    showTrendOfResult(within_cluster_sum_squares)\n",
    "    visualizeTrend(within_cluster_sum_squares,test_n_cluster)\n",
    "    \n",
    "    return test_n_cluster\n",
    "\n",
    "#show the trend of changing number of cluster    \n",
    "def showTrendOfResult(within_cluster_sum_squares):\n",
    "    np.set_printoptions(suppress=True)\n",
    "    np.around(within_cluster_sum_squares, 2)\n",
    "\n",
    "#visualize the trend   \n",
    "def visualizeTrend(within_cluster_sum_squares,test_n_cluster):\n",
    "    fig, ax = plt.subplots()\n",
    "    ax.plot(within_cluster_sum_squares)\n",
    "    xticks = np.arange(test_n_cluster)\n",
    "    xticklabels = xticks + 1\n",
    "    ax.set(xticks=xticks, xticklabels=xticklabels, title='The Elbow Method', \n",
    "        xlabel='Number of clusters, Picture 0', ylabel='WCSS');"
   ]
  },
  {
   "cell_type": "code",
   "execution_count": 4,
   "metadata": {},
   "outputs": [],
   "source": [
    "#get the proper number of cluster\n",
    "def ElbowMethod(latlngData, top_cluster_number, remark=True, init = 'k-means++', max_iter = 300, n_init = 10, random_state = None):\n",
    "    #import numpy as np\n",
    "    #from sklearn.cluster import KMeans\n",
    "    wcss = np.zeros(top_cluster_number)\n",
    "    \n",
    "    for i in range(top_cluster_number):\n",
    "        n = i+1\n",
    "        kmeans = KMeans(n_clusters = n, init=init, max_iter=max_iter, n_init=n_init, random_state=random_state)\n",
    "        kmeans.fit(latlngData)\n",
    "        wcss[i] = kmeans.inertia_\n",
    "    \n",
    "    cosines = -1 * np.ones(top_cluster_number)\n",
    "    \n",
    "    for i in range(top_cluster_number-1):\n",
    "    # check if the point is below a segment midpoint connecting its neighbors\n",
    "        if (wcss[i] < (wcss[i+1]+wcss[i-1])/2 ):\n",
    "            cosines[i]= (-1+(wcss[i-1]-wcss[i])*(wcss[i+1]-wcss[i]))/ \\\n",
    "            ((1+(wcss[i-1]-wcss[i])**2)*(1+ (wcss[i+1]-wcss[i])**2))**.5\n",
    "    \n",
    "    if remark:\n",
    "        print(\"\"\"Remark: If repeated applications(with different random_state parameters) yield different \n",
    "        values for the optimal number then K-means method does not work well on the array.\"\"\")\n",
    "    \n",
    "    return (np.flip(np.argsort(cosines))+1)"
   ]
  },
  {
   "cell_type": "code",
   "execution_count": 5,
   "metadata": {},
   "outputs": [],
   "source": [
    "#convert userIDSet to numIdx\n",
    "def userIDSetToNumIdx(userIDSet,latSet,lngSet):\n",
    "    userIDBook=[]\n",
    "    userIDIdxSet=[]\n",
    "    for i in range(len(userIDSet)):\n",
    "        if userIDSet[i] not in userIDBook:\n",
    "            userIDBook.append(userIDSet[i])\n",
    "        userIDIdxSet.append(userIDBook.index(userIDSet[i]))\n",
    "    #print(\"userIDBook:\")\n",
    "    #print(userIDBook)\n",
    "    #print(\"userIDSet:\")\n",
    "    #print(userIDSet)\n",
    "    #print(\"userIDIdxSet:\")\n",
    "    #print(userIDIdxSet)\n",
    "\n",
    "\n",
    "    #form the dataset for clustering\n",
    "    numOfUser=len(userIDBook)\n",
    "    userIDIdx = pd.Series(userIDIdxSet)\n",
    "    lat = pd.Series(latSet)\n",
    "    lng = pd.Series(lngSet)\n",
    "    d = {'UserID_index':userIDIdx, 'Lat': lat, 'Lng': lng}\n",
    "    dataset = pd.DataFrame(d)\n",
    "    #print(dataset)\n",
    "    \n",
    "    return userIDBook,numOfUser,userIDIdx,lat,lng,d,dataset"
   ]
  },
  {
   "cell_type": "code",
   "execution_count": 6,
   "metadata": {},
   "outputs": [],
   "source": [
    "#clustering using helper.py\n",
    "def clustering(lat,lng,dataset):\n",
    "    minLat=lat.min()\n",
    "    maxLat=lat.max()\n",
    "    minLng=lng.min()\n",
    "    maxLng=lng.max()\n",
    "    #print(minLat)\n",
    "    #print(maxLat)\n",
    "    #print(minLng)\n",
    "    #print(maxLng)\n",
    "    latRange=maxLat-minLat\n",
    "    lngRange=maxLng-minLng\n",
    "    lowerLat=minLat-latRange/2\n",
    "    upperLat=maxLat+latRange/2\n",
    "    lowerLng=minLng-lngRange/2\n",
    "    upperLng=maxLng+lngRange/2\n",
    "    helper.draw_scatterplot(dataset['Lat'],'Lat', dataset['Lng'], 'Lng', lowerLat, upperLat, lowerLng, upperLng)\n",
    "    \n",
    "    return lowerLat, upperLat, lowerLng, upperLng"
   ]
  },
  {
   "cell_type": "code",
   "execution_count": 7,
   "metadata": {},
   "outputs": [],
   "source": [
    "#convert proper data type for clustering\n",
    "def convertProperDataType(dataset,suggestedNumOfCluster,lowerLat, upperLat, lowerLng, upperLng):\n",
    "    X = dataset[['Lat','Lng']].values\n",
    "    #print(\"dataset(type:\"+str(type(X))+\")\")\n",
    "    #print(X)\n",
    "\n",
    "    #Create an instance of KMeans\n",
    "    numOfClusters=suggestedNumOfCluster[0]\n",
    "    kmeans_1 = KMeans(n_clusters=numOfClusters, random_state=0)\n",
    "    #Use fit_predict to cluster the dataset\n",
    "    predictions = kmeans_1.fit_predict(X)\n",
    "\n",
    "    #check data value\n",
    "    print(\"X(type:\"+str(type(X))+\")\")\n",
    "    print(X)\n",
    "    print(\"predictions(type:\"+str(type(predictions))+\")\")\n",
    "    print(predictions)\n",
    "    \n",
    "    visualizeClusteringResult(dataset,predictions,lowerLat, upperLat, lowerLng, upperLng)\n",
    "    \n",
    "    return predictions,numOfClusters\n",
    "    \n",
    "#visualize the result of clustering\n",
    "def visualizeClusteringResult(dataset,predictions,lowerLat, upperLat, lowerLng, upperLng):\n",
    "    helper.draw_clusters(dataset, predictions, 'Lat', 'Lng', lowerLat, upperLat, lowerLng, upperLng)"
   ]
  },
  {
   "cell_type": "code",
   "execution_count": 8,
   "metadata": {},
   "outputs": [],
   "source": [
    "#count # of users appear in each cluster\n",
    "def getClusteringResult(userIDIdx,numOfClusters,predictions):\n",
    "    clusters=[]\n",
    "    userIDArray = userIDIdx.to_numpy()\n",
    "    for i in range(numOfClusters):\n",
    "        clusters.append([])\n",
    "    for i in range(len(predictions)):\n",
    "        clusters[predictions[i]].append(userIDArray[i])\n",
    "    print(clusters)\n",
    "    \n",
    "    return clusters"
   ]
  },
  {
   "cell_type": "code",
   "execution_count": 9,
   "metadata": {},
   "outputs": [],
   "source": [
    "#get user avg occurence for calculation\n",
    "def getUserAvgOccurence(numOfUser,numOfClusters,clusters):\n",
    "    userAvgOccurrence=[]\n",
    "    for i in range(numOfUser):\n",
    "        currentUserOccurence=0\n",
    "        for j in range(numOfClusters):\n",
    "            currentUserOccurence+=clusters[j].count(i+1)\n",
    "        userAvgOccurrence.append(currentUserOccurence/numOfClusters)\n",
    "    #print(\"userAvgOccurrence:\")\n",
    "    #print(userAvgOccurrence)\n",
    "    \n",
    "    return userAvgOccurrence\n",
    "\n",
    "\n",
    "#functions\n",
    "def covOfUserAB(A,B,clusters,userAvgOccurrence,numOfClusters):\n",
    "    sONOOUAB=0 #sONOOUAB: sum of normalized occurrence of user A,B\n",
    "    for i in range(numOfClusters):\n",
    "        sONOOUAB+=(clusters[i].count(A)-userAvgOccurrence[A-1])*(clusters[i].count(B)-userAvgOccurrence[B-1])\n",
    "    sONOOUAB=sONOOUAB/numOfClusters\n",
    "    #print(\"soNOOUAB:\")\n",
    "    #print(sONOOUAB)\n",
    "    return sONOOUAB\n",
    "\n",
    "def stdDevOfUser(A,clusters,userAvgOccurrence,numOfClusters):\n",
    "    numerator=0\n",
    "    for i in range(numOfClusters):\n",
    "        numerator+=(clusters[i].count(A)-userAvgOccurrence[A-1])**2\n",
    "    result=pow(numerator/numOfClusters,0.5)\n",
    "    #print(\"result:\")\n",
    "    #print(result)\n",
    "    return result\n",
    "\n",
    "def simOfUserAB(A,B,clusters,userAvgOccurrence,numOfClusters):\n",
    "    numerator=covOfUserAB(A,B,clusters,userAvgOccurrence,numOfClusters)\n",
    "    denominator=(stdDevOfUser(A,clusters,userAvgOccurrence,numOfClusters)*stdDevOfUser(B,clusters,userAvgOccurrence,numOfClusters))\n",
    "    if(denominator==0): #means all data of A and B are the same\n",
    "        result=-1.0\n",
    "    else:\n",
    "        result=numerator/denominator\n",
    "    #print(\"numerator:\")\n",
    "    #print(numerator)\n",
    "    #print(\"denominator:\")\n",
    "    #print(denominator)\n",
    "    #print(\"numerator/denominator:\")\n",
    "    #print(result)\n",
    "    #print(\"------------------------\")\n",
    "    return result #result 1:similar, 0:no linear relationship, -1:opposite\n",
    "\n",
    "#to find the distance matrix of all user\n",
    "def getUserDistanceMatrix(numOfUser,clusters,userAvgOccurrence,numOfClusters):\n",
    "    userDistanceMatrix=[]\n",
    "    for i in range(numOfUser):\n",
    "        userDistanceMatrix.append([])\n",
    "        for j in range(numOfUser):\n",
    "            if(i>j):\n",
    "                userDistanceMatrix[i].append(userDistanceMatrix[j][i])\n",
    "            if(i==j):\n",
    "                userDistanceMatrix[i].append(-1.0)\n",
    "            if(i<j):\n",
    "                userDistanceMatrix[i].append(simOfUserAB(i,j,clusters,userAvgOccurrence,numOfClusters))\n",
    "    print(\"userDistanceMatrix:\")\n",
    "    print(userDistanceMatrix)\n",
    "    return userDistanceMatrix"
   ]
  },
  {
   "cell_type": "code",
   "execution_count": 10,
   "metadata": {},
   "outputs": [],
   "source": [
    "#get Nth similar Users\n",
    "def getNthUserMostSimilarTotarget(userID,Nth):\n",
    "    #get required data\n",
    "    userIDSet,latSet,lngSet,latlngData=importData()\n",
    "    test_n_cluster=findBestnumbersOfcluster(latlngData)\n",
    "    suggestedNumOfCluster=ElbowMethod(latlngData, 20, max_iter=500, n_init=20)\n",
    "    userIDBook,numOfUser,userIDIdx,lat,lng,d,dataset=userIDSetToNumIdx(userIDSet,latSet,lngSet)\n",
    "    lowerLat, upperLat, lowerLng, upperLng=clustering(lat,lng,dataset)\n",
    "    predictions,numOfClusters=convertProperDataType(dataset,suggestedNumOfCluster,lowerLat, upperLat, lowerLng, upperLng)\n",
    "    clusters=getClusteringResult(userIDIdx,numOfClusters,predictions)\n",
    "    \n",
    "    #start calculate\n",
    "    userAvgOccurrence=getUserAvgOccurence(numOfUser,numOfClusters,clusters)\n",
    "    if userID in userIDBook:\n",
    "        targetUserIdx=userIDBook.index(userID)\n",
    "        print(\"targetUserIdx:\")\n",
    "        print(targetUserIdx)\n",
    "        #idxOfUserID=allUserID.copy()\n",
    "        similaritiesOfUserA=getUserDistanceMatrix(numOfUser,clusters,userAvgOccurrence,numOfClusters)[targetUserIdx].copy() #result 1:similar, 0:no linear relationship, -1:opposite\n",
    "        idxForSimilaritiesOfUserA=[]\n",
    "        for i in range(len(similaritiesOfUserA)):\n",
    "            idxForSimilaritiesOfUserA.append(i)\n",
    "        #print(\"idxOfUserID:\")\n",
    "        #print(idxOfUserID)\n",
    "        print(\"similaritiesOfUserA:\")\n",
    "        print(similaritiesOfUserA)\n",
    "        print(\"idxForSimilaritiesOfUserA:\")\n",
    "        print(idxForSimilaritiesOfUserA)\n",
    "        result=nlargest(Nth, idxForSimilaritiesOfUserA, key=lambda i: similaritiesOfUserA[i])\n",
    "        print(\"result:\")\n",
    "        print(result)\n",
    "\n",
    "        #filter out -1 to 0 results\n",
    "        #result 1:similar, 0:no linear relationship, -1:opposite\n",
    "        result = [item for item in result if similaritiesOfUserA[item]>0.0]\n",
    "        print(\"filtered result:\")\n",
    "        print(result)\n",
    "\n",
    "        #get back the user ID of the result\n",
    "        NthUser=[]\n",
    "        for i in range(len(result)):\n",
    "            #NthUser.append(idxOfUserID[result[i]])\n",
    "            NthUser.append(userIDBook[result[i]])\n",
    "        print(\"result(in user ID):\")\n",
    "        print(NthUser)\n",
    "\n",
    "        return NthUser\n",
    "    else:\n",
    "        return []\n"
   ]
  },
  {
   "cell_type": "code",
   "execution_count": 14,
   "metadata": {},
   "outputs": [
    {
     "name": "stdout",
     "output_type": "stream",
     "text": [
      "userIDSet:\n",
      "[1, 1, 1, 2, 2, 2, 1, 1, 1, 1, 2, 2, 2, 2, 2, 1, 1, 1, 1, 1, 1, 1, 1, 1, 1, 100, 20, 20, 20, 20, 20, 20, 20, 20]\n",
      "latSet:\n",
      "[22.3195854, 22.3249424, 22.326919, -35.27801, -35.28032, -35.28099, 22.321305, 22.321077, 22.320839, 22.32077, -35.28144, -35.28194, -35.28282, -35.28302, -35.28473, 22.330558, 22.3329, 22.332771, 22.329466, 22.327759, 22.327005, 22.324712, 22.322519, 22.318738, 22.317487, 0.0, 22.3319409, 22.3381934, 22.3319409, 22.31290054321289, 22.31290054321289, 22.31290054321289, 22.31290054321289, 22.31290054321289]\n",
      "lngSet:\n",
      "[114.168322, 114.1667213, 114.1647144, 149.12958, 149.12907, 149.12929, 114.1627, 114.164438, 114.166777, 114.168762, 149.12984, 149.13003, 149.12956, 149.12881, 149.12836, 114.165767, 114.169082, 114.175412, 114.18701, 114.184049, 114.178116, 114.172494, 114.168535, 114.165821, 114.160918, 0.0, 114.1641195, 114.1566356, 114.1641195, 114.17056274414062, 114.17056274414062, 114.17056274414062, 114.17056274414062, 114.17056274414062]\n",
      "Remark: If repeated applications(with different random_state parameters) yield different \n",
      "        values for the optimal number then K-means method does not work well on the array.\n",
      "X(type:<class 'numpy.ndarray'>)\n",
      "[[ 22.3195854  114.168322  ]\n",
      " [ 22.3249424  114.1667213 ]\n",
      " [ 22.326919   114.1647144 ]\n",
      " [-35.27801    149.12958   ]\n",
      " [-35.28032    149.12907   ]\n",
      " [-35.28099    149.12929   ]\n",
      " [ 22.321305   114.1627    ]\n",
      " [ 22.321077   114.164438  ]\n",
      " [ 22.320839   114.166777  ]\n",
      " [ 22.32077    114.168762  ]\n",
      " [-35.28144    149.12984   ]\n",
      " [-35.28194    149.13003   ]\n",
      " [-35.28282    149.12956   ]\n",
      " [-35.28302    149.12881   ]\n",
      " [-35.28473    149.12836   ]\n",
      " [ 22.330558   114.165767  ]\n",
      " [ 22.3329     114.169082  ]\n",
      " [ 22.332771   114.175412  ]\n",
      " [ 22.329466   114.18701   ]\n",
      " [ 22.327759   114.184049  ]\n",
      " [ 22.327005   114.178116  ]\n",
      " [ 22.324712   114.172494  ]\n",
      " [ 22.322519   114.168535  ]\n",
      " [ 22.318738   114.165821  ]\n",
      " [ 22.317487   114.160918  ]\n",
      " [  0.           0.        ]\n",
      " [ 22.3319409  114.1641195 ]\n",
      " [ 22.3381934  114.1566356 ]\n",
      " [ 22.3319409  114.1641195 ]\n",
      " [ 22.31290054 114.17056274]\n",
      " [ 22.31290054 114.17056274]\n",
      " [ 22.31290054 114.17056274]\n",
      " [ 22.31290054 114.17056274]\n",
      " [ 22.31290054 114.17056274]]\n",
      "predictions(type:<class 'numpy.ndarray'>)\n",
      "[0 0 0 1 1 1 0 0 0 0 1 1 1 1 1 0 0 0 0 0 0 0 0 0 0 2 0 0 0 0 0 0 0 0]\n",
      "[[0, 0, 0, 0, 0, 0, 0, 0, 0, 0, 0, 0, 0, 0, 0, 0, 0, 3, 3, 3, 3, 3, 3, 3, 3], [1, 1, 1, 1, 1, 1, 1, 1], [2]]\n",
      "targetUserIdx:\n",
      "0\n",
      "userDistanceMatrix:\n",
      "[[-1.0, -0.40824829046386296, -0.40824829046386296, 0.8164965809277261], [-0.40824829046386296, -1.0, -0.5000000000000001, -0.5000000000000001], [-0.40824829046386296, -0.5000000000000001, -1.0, -0.5000000000000001], [0.8164965809277261, -0.5000000000000001, -0.5000000000000001, -1.0]]\n",
      "similaritiesOfUserA:\n",
      "[-1.0, -0.40824829046386296, -0.40824829046386296, 0.8164965809277261]\n",
      "idxForSimilaritiesOfUserA:\n",
      "[0, 1, 2, 3]\n",
      "result:\n",
      "[3, 1]\n",
      "filtered result:\n",
      "[3]\n",
      "result(in user ID):\n",
      "[20]\n"
     ]
    },
    {
     "data": {
      "image/png": "[encoded data removed]",
      "text/plain": [
       "<Figure size 432x288 with 1 Axes>"
      ]
     },
     "metadata": {
      "needs_background": "light"
     },
     "output_type": "display_data"
    },
    {
     "data": {
      "image/png": "[encoded data removed]",
      "text/plain": [
       "<Figure size 432x288 with 1 Axes>"
      ]
     },
     "metadata": {
      "needs_background": "light"
     },
     "output_type": "display_data"
    },
    {
     "data": {
      "image/png": "[encoded data removed]",
      "text/plain": [
       "<Figure size 576x576 with 1 Axes>"
      ]
     },
     "metadata": {
      "needs_background": "light"
     },
     "output_type": "display_data"
    },
    {
     "data": {
      "image/png": "[encoded data removed]",
      "text/plain": [
       "<Figure size 576x576 with 1 Axes>"
      ]
     },
     "metadata": {
      "needs_background": "light"
     },
     "output_type": "display_data"
    }
   ],
   "source": [
    "#to get n similar Users\n",
    "#QUERY HERE ~ 2 parameters: targetUser & numOfResult\n",
    "targetUser=1\n",
    "numOfResult=2 #Note: if numOfResult > possible results, # of output will < numOfResult\n",
    "userIdResult=getNthUserMostSimilarTotarget(targetUser,numOfResult)"
   ]
  },
  {
   "cell_type": "code",
   "execution_count": 12,
   "metadata": {},
   "outputs": [
    {
     "name": "stdout",
     "output_type": "stream",
     "text": [
      "Result User ID:\n",
      "(Note: if numOfResult > possible results, # of output will < numOfResult)\n",
      "[20]\n",
      "have similar behavior to targetUser\n"
     ]
    }
   ],
   "source": [
    "print(\"Result User ID:\")\n",
    "print(\"(Note: if numOfResult > possible results, # of output will < numOfResult)\")\n",
    "print(userIdResult)\n",
    "print(\"have similar behavior to targetUser\")"
   ]
  },
  {
   "cell_type": "code",
   "execution_count": null,
   "metadata": {},
   "outputs": [],
   "source": []
  },
  {
   "cell_type": "code",
   "execution_count": null,
   "metadata": {},
   "outputs": [],
   "source": []
  },
  {
   "cell_type": "code",
   "execution_count": null,
   "metadata": {},
   "outputs": [],
   "source": []
  },
  {
   "cell_type": "code",
   "execution_count": null,
   "metadata": {},
   "outputs": [],
   "source": []
  },
  {
   "cell_type": "code",
   "execution_count": 13,
   "metadata": {},
   "outputs": [],
   "source": [
    "#Backup testing data\n",
    "#cluster 1:\n",
    "#22.369453, 114.120113\n",
    "#22.364373, 114.122516\n",
    "#22.356991, 114.119254\n",
    "#22.372627, 114.108440\n",
    "#22.344501, 114.130891\n",
    "#22.351804, 114.096902\n",
    "#22.381649, 114.099477\n",
    "#22.366568, 114.150975\n",
    "#22.353709, 114.150117\n",
    "#22.379903, 114.109776\n",
    "\n",
    "\n",
    "#cluster 2:\n",
    "#22.309567, 114.175008\n",
    "#22.313696, 114.165223\n",
    "#22.326400, 114.161618\n",
    "#22.323700, 114.188054\n",
    "#22.333545, 114.171574\n",
    "#22.313696, 114.179127\n",
    "#22.331163, 114.202645\n",
    "#22.347200, 114.182732\n",
    "#22.339261, 114.163678\n",
    "#22.327988, 114.195779\n",
    "\n",
    "\n",
    "#cluster 3:\n",
    "#22.257332, 113.880496\n",
    "#22.250818, 113.922210\n",
    "#22.254949，113.960834\n",
    "#22.277348, 113.915000\n",
    "#22.260192, 113.894572\n",
    "#22.288308, 113.981090\n",
    "#22.276395, 114.011646\n",
    "#22.306256, 113.918605\n",
    "#22.227302, 113.997741\n",
    "#22.238107，113.926330\n",
    "\n",
    "#userID\n",
    "#0: 0131412\n",
    "#1: 2142144\n",
    "#2: 1243551\n",
    "#3: 3524541\n",
    "#4: 1232144\n",
    "#[\"0131412\",\"0131412\",\"2142144\",\"0131412\",\"0131412\",\"0131412\",\"1243551\",\"3524541\",\"2142144\",\"1232144\",\n",
    "# \"1232144\",\"1232144\",\"3524541\",\"1243551\",\"1243551\",\"1243551\",\"1232144\",\"3524541\",\"3524541\",\"1232144\",\n",
    "# \"3524541\",\"2142144\",\"2142144\",\"0131412\",\"2142144\",\"2142144\",\"2142144\",\"2142144\",\"0131412\",\"2142144\"]\n"
   ]
  },
  {
   "cell_type": "code",
   "execution_count": null,
   "metadata": {},
   "outputs": [],
   "source": []
  },
  {
   "cell_type": "code",
   "execution_count": 14,
   "metadata": {},
   "outputs": [],
   "source": [
    "#Backup code"
   ]
  },
  {
   "cell_type": "code",
   "execution_count": 15,
   "metadata": {},
   "outputs": [
    {
     "name": "stdout",
     "output_type": "stream",
     "text": [
      "[-0.06557089  0.01156865  0.018254    0.01432585  0.0128582  -0.07675992\n",
      "  0.01665919  0.01433408 -0.0948983   0.06731068]\n",
      "[-0.00186546 -0.1375271   0.10906031 -0.0312116   0.00171566 -0.15834485\n",
      "  0.13499329  0.22756762 -0.12301687 -0.08182307]\n",
      "[0.92096016 0.94798693 0.9722562  0.97949324 1.08282301 1.19662357\n",
      " 1.01620721 0.96410388 1.12581785 0.84859626]\n",
      "[1.1068359  0.96299819 1.21475458 0.82958598 1.09858571 1.09351093\n",
      " 1.02618495 0.8418057  1.12973505 0.81410357]\n",
      "[1.86770114 2.24736651 2.0962122  2.05430756 2.02682818 2.00987317\n",
      " 2.00803516 1.84303392 2.14222331 1.89186828]\n",
      "[2.04640162 2.03977931 1.78212602 2.10912702 2.08000206 1.98300887\n",
      " 2.04217319 1.965095   2.02058972 1.8438109 ]\n"
     ]
    },
    {
     "data": {
      "image/png": "[encoded data removed]",
      "text/plain": [
       "<Figure size 432x288 with 1 Axes>"
      ]
     },
     "metadata": {
      "needs_background": "light"
     },
     "output_type": "display_data"
    }
   ],
   "source": [
    "#Reference Sample\n",
    "# number of clusters: real and assumed for testing.\n",
    "true_n_cluster = 3\n",
    "\n",
    "n_obs = 10\n",
    "\n",
    "X = None\n",
    "\n",
    "for i in range(true_n_cluster):\n",
    "    x = np.random.normal(loc=i, size=n_obs, scale=0.1)#generate data\n",
    "    y = np.random.normal(loc=i, size=n_obs, scale=0.1)#generate data\n",
    "    print(x)\n",
    "    print(y)\n",
    "    data = np.column_stack([x, y])\n",
    "    #print(data)\n",
    "    if X is None:\n",
    "        X = data\n",
    "    else:\n",
    "        X = np.row_stack([X, data])\n",
    "        \n",
    "#print(X)\n",
    "\n",
    "fig, ax = plt.subplots()\n",
    "\n",
    "ax.plot(X[:, 0], X[:, 1], 'o', markersize=2, c='darkblue');"
   ]
  },
  {
   "cell_type": "code",
   "execution_count": null,
   "metadata": {},
   "outputs": [],
   "source": []
  }
 ],
 "metadata": {
  "kernelspec": {
   "display_name": "Python 3",
   "language": "python",
   "name": "python3"
  },
  "language_info": {
   "codemirror_mode": {
    "name": "ipython",
    "version": 3
   },
   "file_extension": ".py",
   "mimetype": "text/x-python",
   "name": "python",
   "nbconvert_exporter": "python",
   "pygments_lexer": "ipython3",
   "version": "3.7.4"
  }
 },
 "nbformat": 4,
 "nbformat_minor": 2
}
